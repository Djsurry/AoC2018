{
 "cells": [
  {
   "cell_type": "code",
   "execution_count": 4,
   "metadata": {},
   "outputs": [],
   "source": [
    "import requests\n",
    "\n",
    "cookies = {\"session\": \"53616c7465645f5f8d9d9e20a6dea505945841c940e10235585d133fe0dbb8e8a730f22978b6605837790e7f1fcffb25\"}\n",
    "\n",
    "url =\"https://adventofcode.com/2018/leaderboard/private/view/371128.json\"\n",
    "\n",
    "json = requests.get(url, cookies=cookies).json()\n"
   ]
  },
  {
   "cell_type": "code",
   "execution_count": 21,
   "metadata": {},
   "outputs": [
    {
     "name": "stdout",
     "output_type": "stream",
     "text": [
      "Djsurry\n"
     ]
    }
   ],
   "source": [
    "print(json[\"members\"][\"371128\"][\"name\"])"
   ]
  },
  {
   "cell_type": "code",
   "execution_count": 26,
   "metadata": {},
   "outputs": [
    {
     "name": "stdout",
     "output_type": "stream",
     "text": [
      "{'name': 'Djsurry', 'id': '371128', 'completion_day_level': {'2': {'1': {'get_star_ts': '1543770505'}, '2': {'get_star_ts': '1543791053'}}, '3': {'2': {'get_star_ts': '1543858140'}, '1': {'get_star_ts': '1543851733'}}, '1': {'1': {'get_star_ts': '1543640563'}, '2': {'get_star_ts': '1543694147'}}}, 'stars': 6, 'global_score': 0, 'last_star_ts': '1543858140', 'local_score': 8}\n"
     ]
    }
   ],
   "source": [
    "print(json[\"members\"][\"371128\"])\n",
    "                      "
   ]
  },
  {
   "cell_type": "code",
   "execution_count": 24,
   "metadata": {},
   "outputs": [],
   "source": [
    "users = [json[\"members\"][n][\"name\"] for n in json[\"members\"].keys()]"
   ]
  },
  {
   "cell_type": "code",
   "execution_count": 25,
   "metadata": {},
   "outputs": [
    {
     "name": "stdout",
     "output_type": "stream",
     "text": [
      "['patricksurry', 'Djsurry']\n"
     ]
    }
   ],
   "source": [
    "print(users)"
   ]
  }
 ],
 "metadata": {
  "kernelspec": {
   "display_name": "Python 3",
   "language": "python",
   "name": "python3"
  },
  "language_info": {
   "codemirror_mode": {
    "name": "ipython",
    "version": 3
   },
   "file_extension": ".py",
   "mimetype": "text/x-python",
   "name": "python",
   "nbconvert_exporter": "python",
   "pygments_lexer": "ipython3",
   "version": "3.6.2"
  }
 },
 "nbformat": 4,
 "nbformat_minor": 2
}
